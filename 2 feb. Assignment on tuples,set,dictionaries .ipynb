{
 "cells": [
  {
   "cell_type": "code",
   "execution_count": null,
   "id": "8ac7d6dc-9f8e-45e0-9157-35528dd045ae",
   "metadata": {},
   "outputs": [],
   "source": [
    "#this is assignment of tuples,dict,ser topics"
   ]
  },
  {
   "cell_type": "code",
   "execution_count": null,
   "id": "1ffbb883-7910-45d8-8d8f-f479d55d5601",
   "metadata": {},
   "outputs": [],
   "source": [
    "# Q1. What are the characteristics of the tuples? Is tuple immutable?"
   ]
  },
  {
   "cell_type": "code",
   "execution_count": null,
   "id": "39541fc1-ffed-4b2b-b76a-7f87f37d43e2",
   "metadata": {},
   "outputs": [],
   "source": [
    "# ans:  characteristics of the tuples are:\n",
    "1. Immutable: once a tuple is created its elements cannot be changed.\n",
    "2. Ordered: The elements in a tuple have a specific order,and this oeder is preserved.\n",
    "   This allows for the elements in a tuple to be accessed and manipulated by their position within the tuple. \n",
    "3. Heterogeneous: tuples in python can contain elements of different data types,including integers,strings,floating-point numbers,lists,and\n",
    "   other tuples.\n",
    "4. Indexed: Each element in a tuple has a unique index,starting from 0. This allows for elements to be retrieved or modified based on their index\n",
    "   within the tuple.\n",
    "5. Packing and Unpacking: Tuples in python support packing and unpacking,which allows you to create a tuple with a single line of code,and also extract\n",
    "   individual elements from a tuple into separate variables.\n",
    "6. Comparing tuples: Tuples in python can be compared to each other based on the values of their elements,and the result of the comparision can be used\n",
    "   in conditional statements and other programming constructs.\n",
    "7. Slicing:Tuples in python support slicing,which allows you to extract a subset of the elements in the tuple.\n",
    "8. Tuple methods: Python provides several built-in methods for working with tuples,such as the 'count' method, which returns the number of occurrences\n",
    "   of a specific element in a tuple,and the 'index' method,which returns the index of the first occurence of a specific element in the tuple."
   ]
  },
  {
   "cell_type": "code",
   "execution_count": null,
   "id": "0dfc3376-fca2-4a10-a61a-85914062ae96",
   "metadata": {},
   "outputs": [],
   "source": [
    "# Q2.What are the two tuple methods in python? Give an example of each method. Give a reason why\n",
    "  tuples have only two in-built methods as compared to Lists.  "
   ]
  },
  {
   "cell_type": "code",
   "execution_count": null,
   "id": "a66a4ad2-c471-4516-853f-db960cc72e84",
   "metadata": {},
   "outputs": [],
   "source": [
    "ans: In python, tuples have two built in methods: 'count' and 'index'.\n",
    "1. 'count' method: The count method returns the number of occurences of a specific element in the tuple. for example:    "
   ]
  },
  {
   "cell_type": "code",
   "execution_count": 1,
   "id": "f7b8d397-3f12-493e-9381-74fd89587834",
   "metadata": {},
   "outputs": [
    {
     "data": {
      "text/plain": [
       "3"
      ]
     },
     "execution_count": 1,
     "metadata": {},
     "output_type": "execute_result"
    }
   ],
   "source": [
    "numbers=(1,2,3,4,2,1,3,3)\n",
    "numbers.count(3)"
   ]
  },
  {
   "cell_type": "code",
   "execution_count": null,
   "id": "592f32fb-4844-4ece-88e5-16932d8a4905",
   "metadata": {},
   "outputs": [],
   "source": [
    "2. 'index' method: The 'index' method returns the index of the first occurence of a specific element in the tuple.for example:"
   ]
  },
  {
   "cell_type": "code",
   "execution_count": 2,
   "id": "bf7699b8-7c2f-431c-9a29-70d3f8e93ba3",
   "metadata": {},
   "outputs": [
    {
     "data": {
      "text/plain": [
       "1"
      ]
     },
     "execution_count": 2,
     "metadata": {},
     "output_type": "execute_result"
    }
   ],
   "source": [
    "numbers=(1,2,3,4,2,1)\n",
    "numbers.index(2)   "
   ]
  },
  {
   "cell_type": "code",
   "execution_count": null,
   "id": "bc5fba16-7ea9-4280-a1a7-42c14a133c22",
   "metadata": {},
   "outputs": [],
   "source": [
    "tuples have only two built in methods as compared to lists because tuples are designed to be simple,lightweight data structures that are optimized for\n",
    "efficiency and speed. Tuples are immutable,means the element in a tuple cannot be changed once they have been assigned.As a result, the number of methods \n",
    "available for tuples is limited as compared to lists, which are mutable.  "
   ]
  },
  {
   "cell_type": "code",
   "execution_count": null,
   "id": "863a7793-f75a-4c30-8c72-7a6c1a960661",
   "metadata": {},
   "outputs": [],
   "source": [
    "Q3.Which collection datatypes in python do not allow duplicate items? Write a code using a set to remove\n",
    "duplicates from the given list.\n",
    "List = [1, 1, 1, 2, 1, 3, 1, 4, 2, 1, 2, 2, 2, 3, 2, 4, 3, 1, 3, 2, 3, 3, 3, 4, 4, 1, 4, 2, 4, 3, 4, 4] "
   ]
  },
  {
   "cell_type": "code",
   "execution_count": null,
   "id": "eacd6fba-7469-4231-8756-7718c9745f7f",
   "metadata": {},
   "outputs": [],
   "source": [
    "ans: In python,two datatypes that do not allow duplicate items are sets and dictionaries.\n",
    "1. Sets: Sets are unordered collection of unique elements. A set can be created by enclosing the elements within curly braces '{}' or by using the 'set()'\n",
    "constructor.since sets do not allow duplicates,any attempt to add an already existing item to the set will be ignored.\n",
    "example:"
   ]
  },
  {
   "cell_type": "code",
   "execution_count": null,
   "id": "47e69b79-8e06-415a-891a-3c145546b732",
   "metadata": {},
   "outputs": [],
   "source": [
    "#creating a set\n",
    "unique_numbers={1,2,3,4,5}\n",
    "# attempting to add a duplicate item \n",
    "unique_numbers.add????(3) #the set remains unchanged\n",
    "\n",
    "print(unique_numbers) #output: {1,2,3,4,5}"
   ]
  },
  {
   "cell_type": "code",
   "execution_count": null,
   "id": "c3d65dab-4aa1-43ff-9276-3065bbd28656",
   "metadata": {},
   "outputs": [],
   "source": [
    "2. Dictionaries: Dictionaries are key-value pairs that are unordered and do not allow duplicate keys. A dictionary can be created by enclosing the key-value\n",
    "   pairs within curly braces '{}' and seperating the keys and values using colons ':' . If a duplicate key is added to the dictionary,the value of the key \n",
    "   will be overwritten.example:"
   ]
  },
  {
   "cell_type": "code",
   "execution_count": 6,
   "id": "5230a437-993c-4c6c-ab96-4677dd9a9069",
   "metadata": {},
   "outputs": [
    {
     "name": "stdout",
     "output_type": "stream",
     "text": [
      "{'name': 'raju', 'age': 20, 'roll no': 10}\n"
     ]
    }
   ],
   "source": [
    "# creating a dictionary\n",
    "student_details={\"name\": \"akash\" , \"age\": 20 , \"roll no\": 10}\n",
    "# attempting to add a duplicate key\n",
    "student_details[\"name\"]= \"raju\" #the value of the key is overwritten\n",
    "print(student_details)"
   ]
  },
  {
   "cell_type": "code",
   "execution_count": 7,
   "id": "057e0eae-9316-4000-9e9f-bf9d520e9948",
   "metadata": {},
   "outputs": [
    {
     "name": "stdout",
     "output_type": "stream",
     "text": [
      "[1, 2, 3, 4]\n"
     ]
    }
   ],
   "source": [
    "# Write a code using a set to remove duplicates from the given list.ans:\n",
    "List = [1, 1, 1, 2, 1, 3, 1, 4, 2, 1, 2, 2, 2, 3, 2, 4, 3, 1, 3, 2, 3, 3, 3, 4, 4, 1, 4, 2, 4, 3, 4, 4] \n",
    "numbers=set(List)\n",
    "List1=list(numbers)\n",
    "print(List1)"
   ]
  },
  {
   "cell_type": "code",
   "execution_count": null,
   "id": "7bdf0b2c-cd42-4d48-b913-7b340eca4991",
   "metadata": {},
   "outputs": [],
   "source": [
    "#Q4. Explain the difference between the union() and update() methods for a set. Give an example of each method.ans:"
   ]
  },
  {
   "cell_type": "code",
   "execution_count": null,
   "id": "fcc96871-3163-4a79-afda-d1db1fced88d",
   "metadata": {},
   "outputs": [],
   "source": [
    "In python, the 'union()' and 'update()' methods are used to combine two sets.\n",
    "i) 'union()' method : it returns a new set that contains all the unique elements from both the sets being combined.The original set remains unchanged.example:"
   ]
  },
  {
   "cell_type": "code",
   "execution_count": 8,
   "id": "0b11d5ea-20c8-4b4a-9c06-ef6009a368b2",
   "metadata": {},
   "outputs": [
    {
     "name": "stdout",
     "output_type": "stream",
     "text": [
      "{1, 2, 3, 4, 5, 6, 7, 8}\n"
     ]
    }
   ],
   "source": [
    "# creating two sets\n",
    "set1={1,2,3,4,5}\n",
    "set2={4,5,6,7,8}\n",
    "#using union method\n",
    "set3=set1.union(set2)\n",
    "print(set3)"
   ]
  },
  {
   "cell_type": "code",
   "execution_count": null,
   "id": "e93535b6-5cf1-45f6-b3f3-90a05ebc7f99",
   "metadata": {},
   "outputs": [],
   "source": [
    "ii) 'update()' method : this updates the first set with the elements from the second set. The elements from the second set are added to the first set and any \n",
    "     duplicates are ignored.example:    "
   ]
  },
  {
   "cell_type": "code",
   "execution_count": 9,
   "id": "56902039-05da-481b-b116-ac1fe4c9b5b3",
   "metadata": {},
   "outputs": [
    {
     "name": "stdout",
     "output_type": "stream",
     "text": [
      "{1, 2, 3, 4, 5, 6, 7, 8}\n"
     ]
    }
   ],
   "source": [
    "# creating two sets\n",
    "set1={1,2,3,4,5}\n",
    "set2={4,5,6,7,8}\n",
    "# using update method\n",
    "set1.update(set2)\n",
    "print(set1)"
   ]
  },
  {
   "cell_type": "code",
   "execution_count": null,
   "id": "54f374ed-3603-4069-8766-76d16b348caa",
   "metadata": {},
   "outputs": [],
   "source": [
    "In conclusion the 'union()' method returns a new set that contains all the unique elements from both the sets,while the 'update()' method updatesthe first\n",
    " set with elements from the second set."
   ]
  },
  {
   "cell_type": "code",
   "execution_count": null,
   "id": "b148693b-ad47-4ae7-997f-616a83c9a540",
   "metadata": {},
   "outputs": [],
   "source": [
    "#Q5. What is a dictionary? Give an example. Also, state whether a dictionary is ordered or unordered.ans:"
   ]
  },
  {
   "cell_type": "code",
   "execution_count": null,
   "id": "69551fc7-2b75-4444-b607-752497571f4b",
   "metadata": {},
   "outputs": [],
   "source": [
    "In python a dictionary is a collection of key-value pairs,where each key is unique and maps to a value. Dictionaries are mutable and UNORDERED,and can \n",
    "be used to store data in more organised way,as opposed to lists and tuples.example:"
   ]
  },
  {
   "cell_type": "code",
   "execution_count": 10,
   "id": "ca86309b-8a03-438d-b370-562c38ce6ff2",
   "metadata": {},
   "outputs": [
    {
     "name": "stdout",
     "output_type": "stream",
     "text": [
      "first_name: nilesh\n"
     ]
    }
   ],
   "source": [
    "#creating a dictionary\n",
    "person={\"first_name\":\"nilesh\",\"last_name\":\"lad\", \"age\":25}\n",
    "print(\"first_name:\",person[\"first_name\"])"
   ]
  },
  {
   "cell_type": "code",
   "execution_count": null,
   "id": "46dea027-0cc7-472d-b6ad-198ddf931154",
   "metadata": {},
   "outputs": [],
   "source": [
    "In this example, dictionary 'person' is created using curly braces '{}' and the key-value pairs are seperated by colons':'. To acces the value associated with key\n",
    "you can use square braces'[]' and pass in the key as an argument. you can also add new key-value pairs to the dictionary or modify existing ones."
   ]
  },
  {
   "cell_type": "code",
   "execution_count": null,
   "id": "0d8cc8dc-2a20-48ca-ace4-93195d44a195",
   "metadata": {},
   "outputs": [],
   "source": [
    "#Q6. Can we create a nested dictionary? If so, please give an example by creating a simple one-level\n",
    "nested dictionary.ans:"
   ]
  },
  {
   "cell_type": "code",
   "execution_count": 11,
   "id": "6dcb9e3b-d857-4332-a015-ed19c941413e",
   "metadata": {},
   "outputs": [
    {
     "name": "stdout",
     "output_type": "stream",
     "text": [
      "{'name': {'first': 'nilesh', 'last': 'lad'}, 'age': 24, 'course': ['data science masters', 'business analytics']}\n"
     ]
    }
   ],
   "source": [
    "#creating nested dictionary\n",
    "student={\"name\" : {\"first\": \"nilesh\",\"last\": \"lad\" }, \"age\" : 24, \"course\":[\"data science masters\",\"business analytics\"]}\n",
    "print(student)"
   ]
  },
  {
   "cell_type": "code",
   "execution_count": null,
   "id": "c6f7f11c-207d-4a36-a4ff-57304027ae69",
   "metadata": {},
   "outputs": [],
   "source": [
    "#Q7. Using set default() method, create key named topics in the given dictionary and also add the value of\n",
    "the key as this,\n",
    "list = ['Python', 'Machine Learning’, 'Deep Learning']  dict1 = {'language' : 'Python', 'course': 'Data Science Masters'}    "
   ]
  },
  {
   "cell_type": "code",
   "execution_count": null,
   "id": "11cae6f5-9385-4bac-b8bc-e4d1082d6d95",
   "metadata": {},
   "outputs": [],
   "source": [
    "ans: This method is used to set a default value for a key in a dictionary if the key does not exist in the dictionary. If the key already exists, setdefault()\n",
    "method will return the current value of the key without changing it.examle:"
   ]
  },
  {
   "cell_type": "code",
   "execution_count": 14,
   "id": "7f808a5b-00f8-462a-a968-fd3487c98013",
   "metadata": {},
   "outputs": [
    {
     "name": "stdout",
     "output_type": "stream",
     "text": [
      "{'language': 'Python', 'course': 'Data Science Masters', 'topics': ['python', 'machine kearning', 'Deep learnig']}\n"
     ]
    }
   ],
   "source": [
    "dict1 = {'language' : 'Python', 'course': 'Data Science Masters'}    \n",
    "dict1.setdefault('topics', ['python','machine kearning','Deep learnig'])\n",
    "print(dict1)"
   ]
  },
  {
   "cell_type": "code",
   "execution_count": null,
   "id": "3dd5dc8e-5b5d-44dd-aebf-d2f08b005c72",
   "metadata": {},
   "outputs": [],
   "source": [
    "#Q8. What are the three view objects in dictionaries? Use the three in-built methods in python to display\n",
    "these three view objects for the given dictionary.\n",
    "dict1 = {'Sport': 'Cricket' , 'Teams': ['India', 'Australia', 'England', 'South Africa', 'Sri Lanka', 'New Zealand']}"
   ]
  },
  {
   "cell_type": "code",
   "execution_count": null,
   "id": "2a9396da-42d1-409d-99ba-c8aee28573bf",
   "metadata": {},
   "outputs": [],
   "source": [
    "ans: In python dictionaries have three main objects:\n",
    "    i) 'keys()': returns a view object that displays list of all the keys in the dictionary. This view object is dynamic,so it update itself whenever the\n",
    "    dictonary changes.\n",
    "    ii)'values()':returns a view object that displays list of all the values in the dictionary. This view object is dynamic,so it update itself whenever the\n",
    "    dictonary changes.\n",
    "    iii)'items()':returns a view object that displays list of all the key-value pairs in the dictionary as a tuples. This view object is dynamic,so it update\n",
    "    itself whenever the dictonary changes"
   ]
  },
  {
   "cell_type": "code",
   "execution_count": 15,
   "id": "03e3b2bd-c79f-4e5e-b4ab-b15ab766a5f6",
   "metadata": {},
   "outputs": [
    {
     "name": "stdout",
     "output_type": "stream",
     "text": [
      "keys: dict_keys(['Sport', 'Teams'])\n",
      "values: dict_values(['Cricket', ['India', 'Australia', 'England', 'South Africa', 'Sri Lanka', 'New Zealand']])\n",
      "items: dict_items([('Sport', 'Cricket'), ('Teams', ['India', 'Australia', 'England', 'South Africa', 'Sri Lanka', 'New Zealand'])])\n"
     ]
    }
   ],
   "source": [
    "dict1 = {'Sport': 'Cricket' , 'Teams': ['India', 'Australia', 'England', 'South Africa', 'Sri Lanka', 'New Zealand']}\n",
    "keys=dict1.keys()\n",
    "values=dict1.values()\n",
    "items=dict1.items()\n",
    "print(\"keys:\",keys)\n",
    "print(\"values:\",values)\n",
    "print(\"items:\",items)"
   ]
  },
  {
   "cell_type": "code",
   "execution_count": null,
   "id": "29e80fd3-a949-481e-8c77-f72b85409965",
   "metadata": {},
   "outputs": [],
   "source": []
  },
  {
   "cell_type": "code",
   "execution_count": null,
   "id": "3864c000-a747-4fd3-ac23-b63c5dcda60e",
   "metadata": {},
   "outputs": [],
   "source": []
  },
  {
   "cell_type": "code",
   "execution_count": null,
   "id": "e738eb0b-8303-4daa-b7e9-c910d84fbda5",
   "metadata": {},
   "outputs": [],
   "source": []
  }
 ],
 "metadata": {
  "kernelspec": {
   "display_name": "Python 3 (ipykernel)",
   "language": "python",
   "name": "python3"
  },
  "language_info": {
   "codemirror_mode": {
    "name": "ipython",
    "version": 3
   },
   "file_extension": ".py",
   "mimetype": "text/x-python",
   "name": "python",
   "nbconvert_exporter": "python",
   "pygments_lexer": "ipython3",
   "version": "3.10.8"
  }
 },
 "nbformat": 4,
 "nbformat_minor": 5
}
